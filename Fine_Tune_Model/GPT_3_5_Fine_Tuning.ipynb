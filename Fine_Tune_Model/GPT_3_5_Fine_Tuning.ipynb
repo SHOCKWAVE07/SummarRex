{
  "cells": [
    {
      "cell_type": "code",
      "execution_count": 1,
      "metadata": {
        "id": "R7WKZyxtpUPS"
      },
      "outputs": [],
      "source": [
        "prompt = \"Pranjal Paira is a final-year undergraduate student pursuing a B.Tech in Data Science and Engineering from Manipal University Jaipur. With a strong interest in applied machine learning, MLOps, and data science, he is passionate about utilizing these fields to drive positive social impact and create a better future.Currently, Pranjal is working as a Data Engineer in a stealth mode startup, where he is actively involved in building a data pipeline to facilitate the development and deployment of generative AI models. His contributions are crucial in designing and implementing efficient infrastructure that enables organizations to leverage generative AI for various applications.Pranjal's experience extends beyond engineering, with considerable expertise in research, particlarly in the field of social networks and graph theory. His publications have made notable contributions in this area, demonstrating his deep understanding of the complexities surrounding social networks. Pranjal's research background equips him with valuable insights that he can leverage to enhance information propagation in social network models and create a meaningful impact.Driven by a desire to utilize machine learning for the social good, Pranjal aims to leverage the power of applied machine learning to address critical challenges and create positive change. He firmly believes in the potential of AI technology to transform sectors such as healthcare, sustainability, and education.Pranjal's inquisitive nature and passion for continuous learning motivate him to seek new opportunities for growth and collaboration. He is eager to connect with like-minded professionals and organizations that share his vision for leveraging data science, applied machine learning and generative AI to make a lasting societal impact. If you want to explore potential partnerships or discuss innovative ideas, please don't hesitate to reach out.Let's connect and work together to harness the transformative potential of AI for a better future!\"\n",
        "temperature = .4\n",
        "number_of_examples = 50"
      ]
    },
    {
      "cell_type": "markdown",
      "metadata": {
        "id": "1snNou5PrIci"
      },
      "source": [
        "Run this to generate the dataset."
      ]
    },
    {
      "cell_type": "code",
      "execution_count": 2,
      "metadata": {
        "colab": {
          "base_uri": "https://localhost:8080/"
        },
        "id": "zuL2UaqlsmBD",
        "outputId": "b909cb47-02b2-4d46-af43-2cd67f7e3bac"
      },
      "outputs": [
        {
          "name": "stdout",
          "output_type": "stream",
          "text": [
            "Requirement already satisfied: openai in c:\\users\\asus\\desktop\\summarrex\\venv\\lib\\site-packages (0.28.1)\n",
            "Requirement already satisfied: tenacity in c:\\users\\asus\\desktop\\summarrex\\venv\\lib\\site-packages (8.2.3)\n",
            "Requirement already satisfied: requests>=2.20 in c:\\users\\asus\\desktop\\summarrex\\venv\\lib\\site-packages (from openai) (2.31.0)\n",
            "Requirement already satisfied: tqdm in c:\\users\\asus\\desktop\\summarrex\\venv\\lib\\site-packages (from openai) (4.66.1)\n",
            "Requirement already satisfied: aiohttp in c:\\users\\asus\\desktop\\summarrex\\venv\\lib\\site-packages (from openai) (3.8.5)\n",
            "Requirement already satisfied: charset-normalizer<4,>=2 in c:\\users\\asus\\desktop\\summarrex\\venv\\lib\\site-packages (from requests>=2.20->openai) (3.3.0)\n",
            "Requirement already satisfied: idna<4,>=2.5 in c:\\users\\asus\\desktop\\summarrex\\venv\\lib\\site-packages (from requests>=2.20->openai) (3.4)\n",
            "Requirement already satisfied: urllib3<3,>=1.21.1 in c:\\users\\asus\\desktop\\summarrex\\venv\\lib\\site-packages (from requests>=2.20->openai) (2.0.5)\n",
            "Requirement already satisfied: certifi>=2017.4.17 in c:\\users\\asus\\desktop\\summarrex\\venv\\lib\\site-packages (from requests>=2.20->openai) (2023.7.22)\n",
            "Requirement already satisfied: attrs>=17.3.0 in c:\\users\\asus\\desktop\\summarrex\\venv\\lib\\site-packages (from aiohttp->openai) (23.1.0)\n",
            "Requirement already satisfied: multidict<7.0,>=4.5 in c:\\users\\asus\\desktop\\summarrex\\venv\\lib\\site-packages (from aiohttp->openai) (6.0.4)\n",
            "Requirement already satisfied: async-timeout<5.0,>=4.0.0a3 in c:\\users\\asus\\desktop\\summarrex\\venv\\lib\\site-packages (from aiohttp->openai) (4.0.3)\n",
            "Requirement already satisfied: yarl<2.0,>=1.0 in c:\\users\\asus\\desktop\\summarrex\\venv\\lib\\site-packages (from aiohttp->openai) (1.9.2)\n",
            "Requirement already satisfied: frozenlist>=1.1.1 in c:\\users\\asus\\desktop\\summarrex\\venv\\lib\\site-packages (from aiohttp->openai) (1.4.0)\n",
            "Requirement already satisfied: aiosignal>=1.1.2 in c:\\users\\asus\\desktop\\summarrex\\venv\\lib\\site-packages (from aiohttp->openai) (1.3.1)\n",
            "Requirement already satisfied: colorama in c:\\users\\asus\\appdata\\roaming\\python\\python39\\site-packages (from tqdm->openai) (0.4.4)\n"
          ]
        }
      ],
      "source": [
        "!pip install openai tenacity"
      ]
    },
    {
      "cell_type": "code",
      "execution_count": 5,
      "metadata": {},
      "outputs": [],
      "source": [
        "import openai"
      ]
    },
    {
      "cell_type": "code",
      "execution_count": 6,
      "metadata": {},
      "outputs": [],
      "source": [
        "with open('API_KEY', 'r') as file:\n",
        "    api_key = file.read().strip()  \n",
        "\n",
        "# Set the API key\n",
        "openai.api_key=api_key"
      ]
    },
    {
      "cell_type": "code",
      "execution_count": null,
      "metadata": {
        "colab": {
          "base_uri": "https://localhost:8080/"
        },
        "id": "Rdsd82ngpHCG",
        "outputId": "ef93c92f-d248-4f79-bd5c-30e92ed7f1cc"
      },
      "outputs": [
        {
          "name": "stdout",
          "output_type": "stream",
          "text": [
            "Generating example 0\n",
            "Generating example 1\n",
            "Generating example 2\n",
            "Generating example 3\n",
            "Generating example 4\n",
            "Generating example 5\n",
            "Generating example 6\n",
            "Generating example 7\n",
            "Generating example 8\n",
            "Generating example 9\n",
            "Generating example 10\n",
            "Generating example 11\n",
            "Generating example 12\n",
            "Generating example 13\n",
            "Generating example 14\n",
            "Generating example 15\n",
            "Generating example 16\n",
            "Generating example 17\n",
            "Generating example 18\n",
            "Generating example 19\n",
            "Generating example 20\n",
            "Generating example 21\n",
            "Generating example 22\n",
            "Generating example 23\n",
            "Generating example 24\n",
            "Generating example 25\n",
            "Generating example 26\n",
            "Generating example 27\n",
            "Generating example 28\n",
            "Generating example 29\n",
            "Generating example 30\n",
            "Generating example 31\n",
            "Generating example 32\n",
            "Generating example 33\n",
            "Generating example 34\n",
            "Generating example 35\n",
            "Generating example 36\n",
            "Generating example 37\n",
            "Generating example 38\n",
            "Generating example 39\n",
            "Generating example 40\n",
            "Generating example 41\n",
            "Generating example 42\n",
            "Generating example 43\n",
            "Generating example 44\n",
            "Generating example 45\n",
            "Generating example 46\n",
            "Generating example 47\n",
            "Generating example 48\n",
            "Generating example 49\n",
            "[\"prompt\\n-----------\\nCan you tell me about Pranjal Paira's educational background?\\n-----------\\n\\nresponse\\n-----------\\nPranjal Paira is a final-year undergraduate student pursuing a B.Tech in Data Science and Engineering from Manipal University Jaipur. He has a strong interest in applied machine learning, MLOps, and data science.\\n\", \"prompt\\n-----------\\nWhat is Pranjal Paira's current professional role?\\n-----------\\n\\nresponse\\n-----------\\nPranjal Paira is currently working as a Data Engineer in a stealth mode startup. He is actively involved in building a data pipeline to facilitate the development and deployment of generative AI models.\\n\", \"prompt\\n-----------\\nWhat is Pranjal Paira's area of expertise apart from engineering?\\n-----------\\n\\nresponse\\n-----------\\nApart from engineering, Pranjal Paira has considerable expertise in research, particularly in the field of social networks and graph theory. His publications have made notable contributions in this area.\\n\", \"prompt\\n-----------\\nWhat is Pranjal Paira's vision for the application of machine learning?\\n-----------\\n\\nresponse\\n-----------\\nPranjal Paira aims to leverage the power of applied machine learning to address critical challenges and create positive change. He believes in the potential of AI technology to transform sectors such as healthcare, sustainability, and education.\\n\", 'prompt\\n-----------\\nWhat motivates Pranjal Paira in his professional journey?\\n-----------\\n\\nresponse\\n-----------\\nPranjal Paira is driven by his inquisitive nature and passion for continuous learning. He is motivated to seek new opportunities for growth and collaboration. He is eager to connect with like-minded professionals and organizations that share his vision for leveraging data science, applied machine learning and generative AI to make a lasting societal impact.\\n', \"prompt\\n-----------\\nWhat is Pranjal Paira's role in his current job as a Data Engineer?\\n-----------\\n\\nresponse\\n-----------\\nIn his current role as a Data Engineer, Pranjal Paira is actively involved in building a data pipeline to facilitate the development and deployment of generative AI models. His contributions are crucial in designing and implementing efficient infrastructure that enables organizations to leverage generative AI for various applications.\\n\", \"prompt\\n-----------\\nWhat kind of impact has Pranjal Paira made in the field of social networks and graph theory?\\n-----------\\n\\nresponse\\n-----------\\nPranjal Paira's research in the field of social networks and graph theory has made notable contributions. His deep understanding of the complexities surrounding social networks equips him with valuable insights that he can leverage to enhance information propagation in social network models and create a meaningful impact.\\n\", 'prompt\\n-----------\\nWhat sectors does Pranjal Paira believe can be transformed by AI technology?\\n-----------\\n\\nresponse\\n-----------\\nPranjal Paira firmly believes in the potential of AI technology to transform sectors such as healthcare, sustainability, and education.\\n', 'prompt\\n-----------\\nHow is Pranjal Paira contributing to the development of generative AI models in his current role?\\n-----------\\n\\nresponse\\n-----------\\nIn his current role, Pranjal Paira is actively involved in building a data pipeline to facilitate the development and deployment of generative AI models. His contributions are crucial in designing and implementing efficient infrastructure that allows organizations to leverage generative AI for various applications.\\n', 'prompt\\n-----------\\nWhat sectors does Pranjal Paira believe can be transformed by AI technology?\\n-----------\\n\\nresponse\\n-----------\\nPranjal Paira believes that AI technology has the potential to transform sectors such as healthcare, sustainability, and education.\\n', \"prompt\\n-----------\\nWhat is Pranjal Paira's vision for applied machine learning and generative AI?\\n-----------\\n\\nresponse\\n-----------\\nPranjal Paira aims to leverage the power of applied machine learning to address critical challenges and create positive change. He envisions leveraging data science, applied machine learning, and generative AI to make a lasting societal impact. He believes in the transformative potential of AI for a better future.\\n\", \"prompt\\n-----------\\nWhat is Pranjal Paira's educational background?\\n-----------\\n\\nresponse\\n-----------\\nPranjal Paira is a final-year undergraduate student pursuing a B.Tech in Data Science and Engineering from Manipal University Jaipur.\\n\", \"prompt\\n-----------\\nWhat is Pranjal Paira's vision for applied machine learning and generative AI?\\n-----------\\n\\nresponse\\n-----------\\nPranjal Paira aims to leverage the power of applied machine learning to address critical challenges and create positive change. He envisions utilizing these fields to drive positive social impact and create a better future. He is particularly interested in leveraging generative AI for various applications and making a lasting societal impact.\\n\", \"prompt\\n-----------\\nWhat is Pranjal Paira's current role and what are his key responsibilities?\\n-----------\\n\\nresponse\\n-----------\\nPranjal Paira is currently working as a Data Engineer in a stealth mode startup. He is actively involved in building a data pipeline to facilitate the development and deployment of generative AI models. His key responsibilities include designing and implementing efficient infrastructure that enables organizations to leverage generative AI for various applications.\\n\", \"prompt\\n-----------\\nWhat is Pranjal Paira's approach towards new opportunities and collaborations?\\n-----------\\n\\nresponse\\n-----------\\nPranjal Paira's inquisitive nature and passion for continuous learning motivate him to seek new opportunities for growth and collaboration. He is eager to connect with like-minded professionals and organizations that share his vision for leveraging data science, applied machine learning, and generative AI to make a lasting societal impact.\\n\", \"prompt\\n-----------\\nWhat is Pranjal Paira's current role and what are his key contributions?\\n-----------\\n\\nresponse\\n-----------\\nPranjal Paira is currently working as a Data Engineer in a stealth mode startup. He is actively involved in building a data pipeline to facilitate the development and deployment of generative AI models. His contributions are crucial in designing and implementing efficient infrastructure that enables organizations to leverage generative AI for various applications.\\n\", \"prompt\\n-----------\\nWhat is Pranjal Paira's academic background?\\n-----------\\n\\nresponse\\n-----------\\nPranjal Paira is a final-year undergraduate student pursuing a B.Tech in Data Science and Engineering from Manipal University Jaipur. He has a strong interest in applied machine learning, MLOps, and data science.\\n\", \"prompt\\n-----------\\nWhat is Pranjal Paira's role in his current job?\\n-----------\\n\\nresponse\\n-----------\\nIn his current job as a Data Engineer in a stealth mode startup, Pranjal Paira is actively involved in building a data pipeline to facilitate the development and deployment of generative AI models. His contributions are crucial in designing and implementing efficient infrastructure that enables organizations to leverage generative AI for various applications.\\n\", \"prompt\\n-----------\\nWhat is Pranjal Paira's academic background?\\n-----------\\n\\nresponse\\n-----------\\nPranjal Paira is a final-year undergraduate student pursuing a B.Tech in Data Science and Engineering from Manipal University Jaipur.\\n\", \"prompt\\n-----------\\nWhat is Pranjal Paira's research expertise?\\n-----------\\n\\nresponse\\n-----------\\nPranjal Paira has considerable expertise in research, particularly in the field of social networks and graph theory. His publications have made notable contributions in this area, demonstrating his deep understanding of the complexities surrounding social networks.\\n\", \"prompt\\n-----------\\nWhat is Pranjal Paira's current academic status?\\n-----------\\n\\nresponse\\n-----------\\nPranjal Paira is a final-year undergraduate student pursuing a B.Tech in Data Science and Engineering from Manipal University Jaipur.\\n\", 'prompt\\n-----------\\nWhat sectors does Pranjal Paira believe AI technology can transform?\\n-----------\\n\\nresponse\\n-----------\\nPranjal Paira firmly believes in the potential of AI technology to transform sectors such as healthcare, sustainability, and education.\\n', \"prompt\\n-----------\\nWhat is Pranjal Paira's professional role and what does it involve?\\n-----------\\n\\nresponse\\n-----------\\nPranjal Paira is currently working as a Data Engineer in a stealth mode startup. His role involves building a data pipeline to facilitate the development and deployment of generative AI models. He also contributes to designing and implementing efficient infrastructure that enables organizations to leverage generative AI for various applications.\\n\", \"prompt\\n-----------\\nWhat is Pranjal Paira's current role and what are his responsibilities?\\n-----------\\n\\nresponse\\n-----------\\nPranjal Paira is currently working as a Data Engineer in a stealth mode startup. His responsibilities include building a data pipeline to facilitate the development and deployment of generative AI models and designing and implementing efficient infrastructure that enables organizations to leverage generative AI for various applications.\\n\", \"prompt\\n-----------\\nWhat is Pranjal Paira's area of expertise in research?\\n-----------\\n\\nresponse\\n-----------\\nPranjal Paira's expertise in research extends to the field of social networks and graph theory. His publications have made notable contributions in this area, demonstrating his deep understanding of the complexities surrounding social networks.\\n\", \"prompt\\n-----------\\nWhat are Pranjal Paira's research interests?\\n-----------\\n\\nresponse\\n-----------\\nPranjal Paira's research interests lie in the field of social networks and graph theory. His publications have made notable contributions in this area, demonstrating his deep understanding of the complexities surrounding social networks.\\n\", \"prompt\\n-----------\\nWhat is Pranjal Paira's educational background?\\n-----------\\n\\nresponse\\n-----------\\nPranjal Paira is a final-year undergraduate student pursuing a B.Tech in Data Science and Engineering from Manipal University Jaipur.\\n\", \"prompt\\n-----------\\nWhat is Pranjal Paira's area of expertise beyond engineering?\\n-----------\\n\\nresponse\\n-----------\\nBeyond engineering, Pranjal Paira has considerable expertise in research, particularly in the field of social networks and graph theory. His publications have made notable contributions in this area, demonstrating his deep understanding of the complexities surrounding social networks.\\n\", \"prompt\\n-----------\\nWhat is Pranjal Paira's vision for the application of machine learning and AI?\\n-----------\\n\\nresponse\\n-----------\\nPranjal Paira aims to leverage the power of applied machine learning to address critical challenges and create positive change. He firmly believes in the potential of AI technology to transform sectors such as healthcare, sustainability, and education. He is eager to connect with like-minded professionals and organizations that share his vision for leveraging data science, applied machine learning and generative AI to make a lasting\", \"prompt\\n-----------\\nWhat is Pranjal Paira's vision for leveraging data science, applied machine learning, and generative AI?\\n-----------\\n\\nresponse\\n-----------\\nPranjal Paira's vision for leveraging data science, applied machine learning, and generative AI is to make a lasting societal impact. He aims to address critical challenges and create positive change, particularly in sectors such as healthcare, sustainability, and education.\\n\", 'prompt\\n-----------\\nWhat is the area of research that Pranjal Paira has made notable contributions to?\\n-----------\\n\\nresponse\\n-----------\\nPranjal Paira has made notable contributions to the field of social networks and graph theory. His research in this area demonstrates his deep understanding of the complexities surrounding social networks.\\n', 'prompt\\n-----------\\nWhat sectors does Pranjal Paira believe AI technology has the potential to transform?\\n-----------\\n\\nresponse\\n-----------\\nPranjal Paira firmly believes in the potential of AI technology to transform sectors such as healthcare, sustainability, and education.\\n', \"prompt\\n-----------\\nWhat is Pranjal Paira's educational background?\\n-----------\\n\\nresponse\\n-----------\\nPranjal Paira is a final-year undergraduate student pursuing a B.Tech in Data Science and Engineering from Manipal University Jaipur.\\n\", \"prompt\\n-----------\\nWhat is Pranjal Paira's educational background?\\n-----------\\n\\nresponse\\n-----------\\nPranjal Paira is a final-year undergraduate student pursuing a B.Tech in Data Science and Engineering from Manipal University Jaipur.\\n\", 'prompt\\n-----------\\nWhat are the areas of interest for Pranjal Paira in the field of Data Science?\\n-----------\\n\\nresponse\\n-----------\\nPranjal Paira has a strong interest in applied machine learning, MLOps, and data science. He is passionate about utilizing these fields to drive positive social impact and create a better future.\\n', \"prompt\\n-----------\\nWhat are Pranjal Paira's areas of interest in the field of data science?\\n-----------\\n\\nresponse\\n-----------\\nPranjal Paira has a strong interest in applied machine learning, MLOps, and data science. He is passionate about utilizing these fields to drive positive social impact and create a better future.\\n\", \"prompt\\n-----------\\nWhat is Pranjal Paira's approach to leveraging machine learning for the social good?\\n-----------\\n\\nresponse\\n-----------\\nPranjal Paira aims to leverage the power of applied machine learning to address critical challenges and create positive change. He firmly believes in the potential of AI technology to transform sectors such as healthcare, sustainability, and education.\\n\", 'prompt\\n-----------\\nWhat sectors does Pranjal Paira believe can be transformed by AI technology?\\n-----------\\n\\nresponse\\n-----------\\nPranjal Paira firmly believes in the potential of AI technology to transform sectors such as healthcare, sustainability, and education.\\n', \"prompt\\n-----------\\nWhat is Pranjal Paira's vision regarding the application of machine learning and AI?\\n-----------\\n\\nresponse\\n-----------\\nPranjal Paira aims to leverage the power of applied machine learning to address critical challenges and create positive change. He firmly believes in the potential of AI technology to transform sectors such as healthcare, sustainability, and education. He is eager to connect with like-minded professionals and organizations that share his vision for leveraging data science, applied machine learning and generative AI to make a lasting\", 'prompt\\n-----------\\nWhat role does Pranjal Paira currently hold in his professional life?\\n-----------\\n\\nresponse\\n-----------\\nCurrently, Pranjal Paira is working as a Data Engineer in a stealth mode startup, where he is actively involved in building a data pipeline to facilitate the development and deployment of generative AI models.\\n', 'prompt\\n-----------\\nWhat sectors does Pranjal Paira believe AI technology can transform?\\n-----------\\n\\nresponse\\n-----------\\nPranjal Paira firmly believes in the potential of AI technology to transform sectors such as healthcare, sustainability, and education.\\n', \"prompt\\n-----------\\nWhat is Pranjal Paira's research expertise?\\n-----------\\n\\nresponse\\n-----------\\nPranjal Paira's experience extends beyond engineering, with considerable expertise in research, particularly in the field of social networks and graph theory. His publications have made notable contributions in this area, demonstrating his deep understanding of the complexities surrounding social networks.\\n\", \"prompt\\n-----------\\nWhat is Pranjal Paira's current role and responsibilities?\\n-----------\\n\\nresponse\\n-----------\\nCurrently, Pranjal Paira is working as a Data Engineer in a stealth mode startup. He is actively involved in building a data pipeline to facilitate the development and deployment of generative AI models. His contributions are crucial in designing and implementing efficient infrastructure that enables organizations to leverage generative AI for various applications.\\n\", \"prompt\\n-----------\\nWhat are Pranjal Paira's beliefs about the potential of AI technology?\\n-----------\\n\\nresponse\\n-----------\\nPranjal Paira firmly believes in the potential of AI technology to transform sectors such as healthcare, sustainability, and education. He aims to leverage the power of applied machine learning to address critical challenges and create positive change.\\n\", \"prompt\\n-----------\\nWhat is Pranjal Paira's current role and contributions?\\n-----------\\n\\nresponse\\n-----------\\nCurrently, Pranjal Paira is working as a Data Engineer in a stealth mode startup, where he is actively involved in building a data pipeline to facilitate the development and deployment of generative AI models. His contributions are crucial in designing and implementing efficient infrastructure that enables organizations to leverage generative AI for various applications.\\n\", \"prompt\\n-----------\\nWhat is Pranjal Paira's current professional role?\\n-----------\\n\\nresponse\\n-----------\\nCurrently, Pranjal Paira is working as a Data Engineer in a stealth mode startup, where he is actively involved in building a data pipeline to facilitate the development and deployment of generative AI models. His contributions are crucial in designing and implementing efficient infrastructure that enables organizations to leverage generative AI for various applications.\\n\", \"prompt\\n-----------\\nWhat is Pranjal Paira's approach towards continuous learning and growth?\\n-----------\\n\\nresponse\\n-----------\\nPranjal Paira's inquisitive nature and passion for continuous learning motivate him to seek new opportunities for growth and collaboration. He is eager to connect with like-minded professionals and organizations that share his vision for leveraging data science, applied machine learning and generative AI to make a lasting societal impact.\\n\", 'prompt\\n-----------\\nWhat is the educational background of Pranjal Paira?\\n-----------\\n\\nresponse\\n-----------\\nPranjal Paira is a final-year undergraduate student pursuing a B.Tech in Data Science and Engineering from Manipal University Jaipur. His strong interest in applied machine learning, MLOps, and data science has driven him to utilize these fields to drive positive social impact and create a better future.\\n', \"prompt\\n-----------\\nWhat is Pranjal Paira's research expertise?\\n-----------\\n\\nresponse\\n-----------\\nPranjal Paira's research expertise extends beyond engineering, with considerable expertise in the field of social networks and graph theory. His publications have made notable contributions in this area, demonstrating his deep understanding of the complexities surrounding social networks.\\n\", 'prompt\\n-----------\\nWhat sectors does Pranjal Paira believe can be transformed by AI technology?\\n-----------\\n\\nresponse\\n-----------\\nPranjal Paira firmly believes in the potential of AI technology to transform sectors such as healthcare, sustainability, and education.\\n']\n"
          ]
        }
      ],
      "source": [
        "import os\n",
        "\n",
        "import random\n",
        "from tenacity import retry, stop_after_attempt, wait_exponential\n",
        "\n",
        "openai.api_key = api_key\n",
        "\n",
        "N_RETRIES = 3\n",
        "\n",
        "@retry(stop=stop_after_attempt(N_RETRIES), wait=wait_exponential(multiplier=1, min=4, max=70))\n",
        "def generate_example(prompt, prev_examples, temperature=.5):\n",
        "    messages=[\n",
        "        {\n",
        "            \"role\": \"system\",\n",
        "            \"content\": f\"You are generating data which will be used to train a machine learning model.\\n\\nYou will be given a high-level description of the model we want to train, and from that, you will generate data samples, each with a prompt/response pair.\\n\\nYou will do so in this format:\\n```\\nprompt\\n-----------\\n$prompt_goes_here\\n-----------\\n\\nresponse\\n-----------\\n$response_goes_here\\n-----------\\n```\\n\\nOnly one prompt/response pair should be generated per turn.\\n\\nFor each turn, make the example slightly more complex than the last, while ensuring diversity.\\n\\nMake sure your samples are unique and diverse, yet high-quality and complex enough to train a well-performing model.\\n\\nHere is the type of model we want to train:\\n`{prompt}`\"\n",
        "        }\n",
        "    ]\n",
        "\n",
        "    if len(prev_examples) > 0:\n",
        "        if len(prev_examples) > 8:\n",
        "            prev_examples = random.sample(prev_examples, 8)\n",
        "        for example in prev_examples:\n",
        "            messages.append({\n",
        "                \"role\": \"assistant\",\n",
        "                \"content\": example\n",
        "            })\n",
        "\n",
        "    response = openai.ChatCompletion.create(\n",
        "        model=\"gpt-4\",\n",
        "        messages=messages,\n",
        "        temperature=temperature,\n",
        "        max_tokens=100,\n",
        "    )\n",
        "\n",
        "    return response.choices[0].message['content']\n",
        "\n",
        "# Generate examples\n",
        "prev_examples = []\n",
        "for i in range(number_of_examples):\n",
        "    print(f'Generating example {i}')\n",
        "    example = generate_example(prompt, prev_examples, temperature)\n",
        "    prev_examples.append(example)\n",
        "\n",
        "print(prev_examples)"
      ]
    },
    {
      "cell_type": "code",
      "execution_count": null,
      "metadata": {
        "colab": {
          "base_uri": "https://localhost:8080/"
        },
        "id": "xMcfhW6Guh2E",
        "outputId": "6ff37987-9629-4578-ef33-f694980de1ad"
      },
      "outputs": [
        {
          "name": "stdout",
          "output_type": "stream",
          "text": [
            "The system message is: `Given a brief biography of Pranjal Paira, generate a concise summary of his professional background and interests.`. Feel free to re-run this cell if you want a better result.\n"
          ]
        }
      ],
      "source": [
        "def generate_system_message(prompt):\n",
        "\n",
        "    response = openai.ChatCompletion.create(\n",
        "        model=\"gpt-4\",\n",
        "        messages=[\n",
        "          {\n",
        "            \"role\": \"system\",\n",
        "            \"content\": \"You will be given a high-level description of the model we are training, and from that, you will generate a simple system prompt for that model to use. Remember, you are not generating the system message for data generation -- you are generating the system message to use for inference. A good format to follow is `Given $INPUT_DATA, you will $WHAT_THE_MODEL_SHOULD_DO.`.\\n\\nMake it as concise as possible. Include nothing but the system prompt in your response.\\n\\nFor example, never write: `\\\"$SYSTEM_PROMPT_HERE\\\"`.\\n\\nIt should be like: `$SYSTEM_PROMPT_HERE`.\"\n",
        "          },\n",
        "          {\n",
        "              \"role\": \"user\",\n",
        "              \"content\": prompt.strip(),\n",
        "          }\n",
        "        ],\n",
        "        temperature=temperature,\n",
        "        max_tokens=500,\n",
        "    )\n",
        "\n",
        "    return response.choices[0].message['content']\n",
        "\n",
        "system_message = generate_system_message(prompt)\n",
        "\n",
        "print(f'The system message is: `{system_message}`. Feel free to re-run this cell if you want a better result.')"
      ]
    },
    {
      "cell_type": "code",
      "execution_count": null,
      "metadata": {
        "colab": {
          "base_uri": "https://localhost:8080/"
        },
        "id": "7CEdkYeRsdmB",
        "outputId": "b0fb9474-5c9e-41a4-9d35-7b6d23093627"
      },
      "outputs": [
        {
          "name": "stdout",
          "output_type": "stream",
          "text": [
            "There are 44 successfully-generated examples.\n"
          ]
        }
      ],
      "source": [
        "import json\n",
        "import pandas as pd\n",
        "\n",
        "# Initialize lists to store prompts and responses\n",
        "prompts = []\n",
        "responses = []\n",
        "\n",
        "# Parse out prompts and responses from examples\n",
        "for example in prev_examples:\n",
        "  try:\n",
        "    split_example = example.split('-----------')\n",
        "    prompts.append(split_example[1].strip())\n",
        "    responses.append(split_example[3].strip())\n",
        "  except:\n",
        "    pass\n",
        "\n",
        "# Create a DataFrame\n",
        "df = pd.DataFrame({\n",
        "    'prompt': prompts,\n",
        "    'response': responses\n",
        "})\n",
        "\n",
        "# Remove duplicates\n",
        "df = df.drop_duplicates()\n",
        "\n",
        "print('There are ' + str(len(df)) + ' successfully-generated examples.')\n",
        "\n",
        "# Initialize list to store training examples\n",
        "training_examples = []\n",
        "\n",
        "# Create training examples in the format required for GPT-3.5 fine-tuning\n",
        "for index, row in df.iterrows():\n",
        "    training_example = {\n",
        "        \"messages\": [\n",
        "            {\"role\": \"system\", \"content\": system_message.strip()},\n",
        "            {\"role\": \"user\", \"content\": row['prompt']},\n",
        "            {\"role\": \"assistant\", \"content\": row['response']}\n",
        "        ]\n",
        "    }\n",
        "    training_examples.append(training_example)\n",
        "\n",
        "# Save training examples to a .jsonl file\n",
        "with open('training_examples.jsonl', 'w') as f:\n",
        "    for example in training_examples:\n",
        "        f.write(json.dumps(example) + '\\n')"
      ]
    },
    {
      "cell_type": "code",
      "execution_count": null,
      "metadata": {
        "id": "4LjEUrI9XDgT"
      },
      "outputs": [],
      "source": [
        "file_id = openai.File.create(\n",
        "  file=open(\"/content/training_examples.jsonl\", \"rb\"),\n",
        "  purpose='fine-tune'\n",
        ").id"
      ]
    },
    {
      "cell_type": "code",
      "execution_count": null,
      "metadata": {
        "id": "rdEyXmkoW80I"
      },
      "outputs": [],
      "source": [
        "job = openai.FineTuningJob.create(training_file=file_id, model=\"gpt-3.5-turbo\")\n",
        "\n",
        "job_id = job.id"
      ]
    },
    {
      "cell_type": "code",
      "execution_count": null,
      "metadata": {
        "colab": {
          "base_uri": "https://localhost:8080/"
        },
        "id": "45DJZ7hHaBx0",
        "outputId": "7595bfa8-5672-47e9-be58-2046efd4f9e8"
      },
      "outputs": [
        {
          "data": {
            "text/plain": [
              "<OpenAIObject list at 0x7938e36dfce0> JSON: {\n",
              "  \"object\": \"list\",\n",
              "  \"data\": [\n",
              "    {\n",
              "      \"object\": \"fine_tuning.job.event\",\n",
              "      \"id\": \"ftevent-eMshpFDgyDERJju9ZsUb26il\",\n",
              "      \"created_at\": 1696229035,\n",
              "      \"level\": \"info\",\n",
              "      \"message\": \"Step 111/132: training loss=0.15\",\n",
              "      \"data\": {\n",
              "        \"step\": 111,\n",
              "        \"train_loss\": 0.14788436889648438,\n",
              "        \"train_mean_token_accuracy\": 0.9583333134651184\n",
              "      },\n",
              "      \"type\": \"metrics\"\n",
              "    },\n",
              "    {\n",
              "      \"object\": \"fine_tuning.job.event\",\n",
              "      \"id\": \"ftevent-RNk9ecEThrsH7rqWr4ZSS9d1\",\n",
              "      \"created_at\": 1696229017,\n",
              "      \"level\": \"info\",\n",
              "      \"message\": \"Step 101/132: training loss=0.35\",\n",
              "      \"data\": {\n",
              "        \"step\": 101,\n",
              "        \"train_loss\": 0.3493404686450958,\n",
              "        \"train_mean_token_accuracy\": 0.9107142686843872\n",
              "      },\n",
              "      \"type\": \"metrics\"\n",
              "    },\n",
              "    {\n",
              "      \"object\": \"fine_tuning.job.event\",\n",
              "      \"id\": \"ftevent-JQL4QDVgoehpI4G0isrZJDNw\",\n",
              "      \"created_at\": 1696228999,\n",
              "      \"level\": \"info\",\n",
              "      \"message\": \"Step 91/132: training loss=0.28\",\n",
              "      \"data\": {\n",
              "        \"step\": 91,\n",
              "        \"train_loss\": 0.278700590133667,\n",
              "        \"train_mean_token_accuracy\": 0.9210526347160339\n",
              "      },\n",
              "      \"type\": \"metrics\"\n",
              "    },\n",
              "    {\n",
              "      \"object\": \"fine_tuning.job.event\",\n",
              "      \"id\": \"ftevent-iICtJ1l1JuypKKqqjWjQFzqt\",\n",
              "      \"created_at\": 1696228981,\n",
              "      \"level\": \"info\",\n",
              "      \"message\": \"Step 81/132: training loss=0.68\",\n",
              "      \"data\": {\n",
              "        \"step\": 81,\n",
              "        \"train_loss\": 0.6798052191734314,\n",
              "        \"train_mean_token_accuracy\": 0.8039215803146362\n",
              "      },\n",
              "      \"type\": \"metrics\"\n",
              "    },\n",
              "    {\n",
              "      \"object\": \"fine_tuning.job.event\",\n",
              "      \"id\": \"ftevent-WLphwuaDdAuYG0Q5ueGs5HU0\",\n",
              "      \"created_at\": 1696228963,\n",
              "      \"level\": \"info\",\n",
              "      \"message\": \"Step 71/132: training loss=0.53\",\n",
              "      \"data\": {\n",
              "        \"step\": 71,\n",
              "        \"train_loss\": 0.532060980796814,\n",
              "        \"train_mean_token_accuracy\": 0.849056601524353\n",
              "      },\n",
              "      \"type\": \"metrics\"\n",
              "    },\n",
              "    {\n",
              "      \"object\": \"fine_tuning.job.event\",\n",
              "      \"id\": \"ftevent-vj2TxS5nrehGAB2JLxwuORMK\",\n",
              "      \"created_at\": 1696228945,\n",
              "      \"level\": \"info\",\n",
              "      \"message\": \"Step 61/132: training loss=1.19\",\n",
              "      \"data\": {\n",
              "        \"step\": 61,\n",
              "        \"train_loss\": 1.1862797737121582,\n",
              "        \"train_mean_token_accuracy\": 0.7213114500045776\n",
              "      },\n",
              "      \"type\": \"metrics\"\n",
              "    },\n",
              "    {\n",
              "      \"object\": \"fine_tuning.job.event\",\n",
              "      \"id\": \"ftevent-SBRIhdSQYpW3JONWyE2OJMTo\",\n",
              "      \"created_at\": 1696228927,\n",
              "      \"level\": \"info\",\n",
              "      \"message\": \"Step 51/132: training loss=0.76\",\n",
              "      \"data\": {\n",
              "        \"step\": 51,\n",
              "        \"train_loss\": 0.7575321793556213,\n",
              "        \"train_mean_token_accuracy\": 0.7441860437393188\n",
              "      },\n",
              "      \"type\": \"metrics\"\n",
              "    },\n",
              "    {\n",
              "      \"object\": \"fine_tuning.job.event\",\n",
              "      \"id\": \"ftevent-SnAtkIKToGGKTnQg7BQbzYP7\",\n",
              "      \"created_at\": 1696228909,\n",
              "      \"level\": \"info\",\n",
              "      \"message\": \"Step 41/132: training loss=0.97\",\n",
              "      \"data\": {\n",
              "        \"step\": 41,\n",
              "        \"train_loss\": 0.9658584594726562,\n",
              "        \"train_mean_token_accuracy\": 0.761904776096344\n",
              "      },\n",
              "      \"type\": \"metrics\"\n",
              "    },\n",
              "    {\n",
              "      \"object\": \"fine_tuning.job.event\",\n",
              "      \"id\": \"ftevent-KpfZoJrccbK32LsTK2mCgDVq\",\n",
              "      \"created_at\": 1696228890,\n",
              "      \"level\": \"info\",\n",
              "      \"message\": \"Step 31/132: training loss=1.37\",\n",
              "      \"data\": {\n",
              "        \"step\": 31,\n",
              "        \"train_loss\": 1.3702787160873413,\n",
              "        \"train_mean_token_accuracy\": 0.6333333253860474\n",
              "      },\n",
              "      \"type\": \"metrics\"\n",
              "    },\n",
              "    {\n",
              "      \"object\": \"fine_tuning.job.event\",\n",
              "      \"id\": \"ftevent-4LKU92qwOETped5gURnxQ7rQ\",\n",
              "      \"created_at\": 1696228872,\n",
              "      \"level\": \"info\",\n",
              "      \"message\": \"Step 21/132: training loss=1.36\",\n",
              "      \"data\": {\n",
              "        \"step\": 21,\n",
              "        \"train_loss\": 1.359253168106079,\n",
              "        \"train_mean_token_accuracy\": 0.6111111044883728\n",
              "      },\n",
              "      \"type\": \"metrics\"\n",
              "    }\n",
              "  ],\n",
              "  \"has_more\": true\n",
              "}"
            ]
          },
          "execution_count": 37,
          "metadata": {},
          "output_type": "execute_result"
        }
      ],
      "source": [
        "openai.FineTuningJob.list_events(id=job_id, limit=10)"
      ]
    },
    {
      "cell_type": "code",
      "execution_count": null,
      "metadata": {
        "id": "eWBRBPh8aEzH"
      },
      "outputs": [],
      "source": [
        "model_name_pre_object = openai.FineTuningJob.retrieve(job_id)\n",
        "model_name = model_name_pre_object.fine_tuned_model\n",
        "print(model_name)"
      ]
    },
    {
      "cell_type": "code",
      "execution_count": null,
      "metadata": {
        "id": "uxbrmzc5dMuC"
      },
      "outputs": [],
      "source": [
        "response = openai.ChatCompletion.create(\n",
        "    model=model_name,\n",
        "    messages=[\n",
        "      {\n",
        "        \"role\": \"system\",\n",
        "        \"content\": system_message,\n",
        "      },\n",
        "      {\n",
        "          \"role\": \"user\",\n",
        "          \"content\": df['prompt'].sample().values[0],\n",
        "      }\n",
        "    ],\n",
        ")\n",
        "\n",
        "response.choices[0].message['content']"
      ]
    }
  ],
  "metadata": {
    "accelerator": "GPU",
    "colab": {
      "gpuType": "T4",
      "provenance": []
    },
    "kernelspec": {
      "display_name": "Python 3",
      "name": "python3"
    },
    "language_info": {
      "codemirror_mode": {
        "name": "ipython",
        "version": 3
      },
      "file_extension": ".py",
      "mimetype": "text/x-python",
      "name": "python",
      "nbconvert_exporter": "python",
      "pygments_lexer": "ipython3",
      "version": "3.9.18"
    }
  },
  "nbformat": 4,
  "nbformat_minor": 0
}
